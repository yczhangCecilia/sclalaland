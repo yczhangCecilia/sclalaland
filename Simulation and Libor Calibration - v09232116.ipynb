{
 "cells": [
  {
   "cell_type": "code",
   "execution_count": 181,
   "metadata": {
    "ExecuteTime": {
     "end_time": "2019-09-24T01:08:47.379583Z",
     "start_time": "2019-09-24T01:08:47.375598Z"
    }
   },
   "outputs": [],
   "source": [
    "import numpy as np\n",
    "import pandas as pd\n",
    "import matplotlib.pyplot as plt"
   ]
  },
  {
   "cell_type": "code",
   "execution_count": 182,
   "metadata": {
    "ExecuteTime": {
     "end_time": "2019-09-24T01:08:47.616953Z",
     "start_time": "2019-09-24T01:08:47.611966Z"
    }
   },
   "outputs": [],
   "source": [
    "N = 5  # 5 periods: 0-0.25, 0.25-0.5, 0.5-0.75, 0.75-1, 1-1.25\n",
    "dt = 0.25\n",
    "r0_trs = 0.025\n",
    "n_path = 10000"
   ]
  },
  {
   "cell_type": "code",
   "execution_count": 183,
   "metadata": {
    "ExecuteTime": {
     "end_time": "2019-09-24T01:08:47.838358Z",
     "start_time": "2019-09-24T01:08:47.832375Z"
    }
   },
   "outputs": [],
   "source": [
    "# treasury params\n",
    "alpha = 0.05\n",
    "sigma_trs = 0.1\n",
    "theta_t = np.array([0.028, 0.3, 0.4, 0.5, 0.6])\n",
    "\n",
    "# ted and Libor params\n",
    "a = 0.5\n",
    "b = 0.04\n",
    "sigma_ted = 0.1\n",
    "rho = 0.2\n",
    "r0_libor = 0.0362"
   ]
  },
  {
   "cell_type": "markdown",
   "metadata": {},
   "source": [
    "## Simulation given model parameters"
   ]
  },
  {
   "cell_type": "code",
   "execution_count": 184,
   "metadata": {
    "ExecuteTime": {
     "end_time": "2019-09-24T01:08:48.655205Z",
     "start_time": "2019-09-24T01:08:48.647227Z"
    }
   },
   "outputs": [],
   "source": [
    "def generate_r_trs_helper(dW, alpha, sigma_trs, theta_t, n_path, N, dt, r0_trs):\n",
    "    r = np.zeros((n_path, N))\n",
    "    r[:, 0] = r0_trs\n",
    "    for i in range(1, N):\n",
    "        r[:, i] = r[:,i-1] + alpha*(theta_t[i-1]-r[:,i-1])*dt + sigma_trs*dW[:,i-1]\n",
    "    return r"
   ]
  },
  {
   "cell_type": "code",
   "execution_count": 185,
   "metadata": {
    "ExecuteTime": {
     "end_time": "2019-09-24T01:08:48.963379Z",
     "start_time": "2019-09-24T01:08:48.955374Z"
    }
   },
   "outputs": [],
   "source": [
    "def generate_r_ted_helper(dW, a, b, sigma_ted, rho, r0_libor, n_path, N, dt, r0_trs):\n",
    "    ted = np.zeros((n_path, N))\n",
    "    ted[:, 0] = r0_libor - r0_trs\n",
    "    for i in range(1, N):\n",
    "        ted[:, i] = (ted[:,i-1] + a*(b-ted[:,i-1])*dt \n",
    "                     + sigma_ted*np.sqrt(ted[:,i-1])*dW[:,i-1] \n",
    "                     + 0.25*(sigma_ted**2)*(dW[:,i-1]**2-dt))\n",
    "        ted[:, i] = np.abs(ted[:, i])  # reflecting fix\n",
    "    return ted"
   ]
  },
  {
   "cell_type": "code",
   "execution_count": 186,
   "metadata": {
    "ExecuteTime": {
     "end_time": "2019-09-24T01:08:50.375576Z",
     "start_time": "2019-09-24T01:08:50.368595Z"
    }
   },
   "outputs": [],
   "source": [
    "def generate_funding_spread_helper(dW, n_path, N, dt):\n",
    "    x = np.zeros((n_path, N))\n",
    "    x[:, 0] = 9e-4\n",
    "    for i in range(1, N):\n",
    "        x[:, i] = x[:,i-1] + 3*(0.001-x[:,i-1])*dt + 0.15*x[:,i-1]*dW[:,i-1]\n",
    "    return x"
   ]
  },
  {
   "cell_type": "code",
   "execution_count": 187,
   "metadata": {
    "ExecuteTime": {
     "end_time": "2019-09-24T01:09:00.092594Z",
     "start_time": "2019-09-24T01:09:00.076638Z"
    }
   },
   "outputs": [],
   "source": [
    "def generate_interest_rates(alpha, sigma_trs, theta_t, a, b, sigma_ted, rho, r0_libor,\n",
    "                            n_path=10000, N=5, dt=0.25, r0_trs=0.025):\n",
    "    '''\n",
    "    Generate treasury spot rate, ted spread, libor spot rate, funding rate\n",
    "    treasury parameters:\n",
    "        alpha, sigma_trs: scalar\n",
    "        theta_t: np.array, len=N\n",
    "    ted spread and Libor parameters:\n",
    "        a, b, sigma_ted, rho, r0_libor: scalar\n",
    "    '''\n",
    "    # generate r_treasury paths using Euler Scheme and antithetic variable\n",
    "    dW_trs = np.random.normal(0, np.sqrt(dt), size=(n_path, N))\n",
    "    r_trs1 = generate_r_trs_helper(dW_trs, alpha, sigma_trs, theta_t, n_path, N, dt, r0_trs)\n",
    "    r_trs2 = generate_r_trs_helper(-dW_trs, alpha, sigma_trs, theta_t, n_path, N, dt, r0_trs)  # antithetic\n",
    "    r_trs = np.concatenate([r_trs1, r_trs2])\n",
    "    \n",
    "    # generate ted spread using Milstein Scheme, and Libor (r_treasury + ted spread) and their antithetic paths\n",
    "    dW_tmp = np.random.normal(0, np.sqrt(dt), size=(n_path, N))\n",
    "    dW_ted = rho*dW_trs + np.sqrt(1-rho**2)*dW_tmp\n",
    "    r_ted1 = generate_r_ted_helper(dW_ted, a, b, sigma_ted, rho, r0_libor, n_path, N, dt, r0_trs)\n",
    "    r_ted2 = generate_r_ted_helper(-dW_ted, a, b, sigma_ted, rho, r0_libor, n_path, N, dt, r0_trs)  # antithetic\n",
    "    r_ted = np.concatenate([r_ted1, r_ted2])\n",
    "    r_libor = r_trs + r_ted\n",
    "    \n",
    "    # generate funding rate\n",
    "    dW_x = np.random.normal(0, np.sqrt(dt), size=(n_path, N))\n",
    "    x1 = generate_funding_spread_helper(dW_x, n_path, N, dt)\n",
    "    x2 = generate_funding_spread_helper(-dW_x, n_path, N, dt)  # antithetic\n",
    "    x = np.concatenate([x1, x2])\n",
    "    r_funding = r_libor + x\n",
    "    return r_trs, r_ted, r_libor, r_funding"
   ]
  },
  {
   "cell_type": "code",
   "execution_count": 188,
   "metadata": {
    "ExecuteTime": {
     "end_time": "2019-09-24T01:09:00.645145Z",
     "start_time": "2019-09-24T01:09:00.619216Z"
    }
   },
   "outputs": [],
   "source": [
    "r_trs, r_ted, r_libor, r_funding = generate_interest_rates(alpha, sigma_trs, theta_t,\n",
    "                                                           a, b, sigma_ted, rho, r0_libor,\n",
    "                                                           n_path=10000, N=5, dt=0.25, r0_trs=0.025)"
   ]
  },
  {
   "cell_type": "markdown",
   "metadata": {},
   "source": [
    "## Calibration"
   ]
  },
  {
   "cell_type": "markdown",
   "metadata": {},
   "source": [
    "Goal: find the reasonable parameters a, b, sigma_ted to minimize the loss between true market price and simulated market price.\n",
    "\n",
    "Several constraints:\n",
    "\n",
    "- 2ab $\\geq$ sigma_ted^2, to ensure that ted is a non-negative process\n",
    "- Simulated market price must coincide with the strucutre of true market price: both Libor rate and caplet price should be increasing"
   ]
  },
  {
   "cell_type": "code",
   "execution_count": 189,
   "metadata": {
    "ExecuteTime": {
     "end_time": "2019-09-24T01:09:03.123488Z",
     "start_time": "2019-09-24T01:09:03.115541Z"
    }
   },
   "outputs": [],
   "source": [
    "# true market libor rate and caplet price\n",
    "mkt_libor = np.array([0.0362, 0.0363, 0.0371, 0.0372, 0.0379])\n",
    "mkt_libor_cap = np.array([np.nan, 0.00081, 0.00108, 0.00128, 0.00133])\n",
    "tmp = (1+dt*mkt_libor) ** np.arange(1, N+1)\n",
    "mkt_forward = (tmp / np.insert(tmp[:-1], 0, 1) - 1) / dt"
   ]
  },
  {
   "cell_type": "code",
   "execution_count": 190,
   "metadata": {
    "ExecuteTime": {
     "end_time": "2019-09-24T01:09:03.825641Z",
     "start_time": "2019-09-24T01:09:03.803673Z"
    }
   },
   "outputs": [],
   "source": [
    "# simulated market libor rate and caplet price\n",
    "sim_libor = (np.cumprod(1+dt*r_libor, axis=1) ** (1/np.arange(1, N+1)) - 1) / dt\n",
    "sim_libor = np.mean(sim_libor, axis=0)\n",
    "cap_payoff = np.maximum(r_libor - mkt_forward, np.zeros(r_libor.shape))\n",
    "pv = 1 / np.cumprod(1+dt*r_trs, axis=1)  # discount by treasury rate\n",
    "sim_libor_cap = np.mean(pv * cap_payoff, axis=0)\n",
    "sim_libor_cap[0] = np.nan"
   ]
  },
  {
   "cell_type": "code",
   "execution_count": 196,
   "metadata": {
    "ExecuteTime": {
     "end_time": "2019-09-24T01:11:04.023227Z",
     "start_time": "2019-09-24T01:11:04.015251Z"
    }
   },
   "outputs": [
    {
     "name": "stdout",
     "output_type": "stream",
     "text": [
      "true market libor:\n",
      " [0.0362 0.0363 0.0371 0.0372 0.0379]\n",
      "simulated market libor:\n",
      " [0.0362     0.03793651 0.04067457 0.04385917 0.04739302]\n",
      "\n",
      "\n",
      "true market libor caplet price:\n",
      " [    nan 0.00081 0.00108 0.00128 0.00133]\n",
      "simulated market libor caplet price:\n",
      " [       nan 0.0214993  0.03125902 0.0407793  0.04665703]\n"
     ]
    }
   ],
   "source": [
    "print('true market libor:\\n', mkt_libor)\n",
    "print('simulated market libor:\\n', sim_libor)\n",
    "print('\\n')\n",
    "print('true market libor caplet price:\\n', mkt_libor_cap)\n",
    "print('simulated market libor caplet price:\\n', sim_libor_cap)"
   ]
  },
  {
   "cell_type": "code",
   "execution_count": 109,
   "metadata": {
    "ExecuteTime": {
     "end_time": "2019-09-24T00:25:57.221700Z",
     "start_time": "2019-09-24T00:25:57.215717Z"
    }
   },
   "outputs": [],
   "source": []
  },
  {
   "cell_type": "code",
   "execution_count": null,
   "metadata": {
    "ExecuteTime": {
     "end_time": "2019-09-24T00:25:58.032533Z",
     "start_time": "2019-09-24T00:25:58.027546Z"
    }
   },
   "outputs": [],
   "source": []
  },
  {
   "cell_type": "code",
   "execution_count": null,
   "metadata": {},
   "outputs": [],
   "source": []
  },
  {
   "cell_type": "code",
   "execution_count": null,
   "metadata": {
    "ExecuteTime": {
     "end_time": "2019-09-24T00:25:10.947428Z",
     "start_time": "2019-09-24T00:25:10.941444Z"
    }
   },
   "outputs": [],
   "source": []
  },
  {
   "cell_type": "code",
   "execution_count": null,
   "metadata": {},
   "outputs": [],
   "source": []
  },
  {
   "cell_type": "code",
   "execution_count": null,
   "metadata": {
    "ExecuteTime": {
     "end_time": "2019-09-24T00:27:55.083820Z",
     "start_time": "2019-09-24T00:27:55.070854Z"
    }
   },
   "outputs": [],
   "source": []
  },
  {
   "cell_type": "code",
   "execution_count": 129,
   "metadata": {
    "ExecuteTime": {
     "end_time": "2019-09-23T19:33:31.342129Z",
     "start_time": "2019-09-23T19:33:31.337138Z"
    }
   },
   "outputs": [],
   "source": []
  },
  {
   "cell_type": "code",
   "execution_count": null,
   "metadata": {
    "ExecuteTime": {
     "end_time": "2019-09-23T19:23:30.676024Z",
     "start_time": "2019-09-23T19:23:30.669010Z"
    }
   },
   "outputs": [],
   "source": []
  },
  {
   "cell_type": "code",
   "execution_count": null,
   "metadata": {},
   "outputs": [],
   "source": []
  },
  {
   "cell_type": "code",
   "execution_count": 34,
   "metadata": {
    "ExecuteTime": {
     "end_time": "2019-09-23T18:41:55.975716Z",
     "start_time": "2019-09-23T18:41:55.971761Z"
    }
   },
   "outputs": [],
   "source": []
  },
  {
   "cell_type": "code",
   "execution_count": 118,
   "metadata": {
    "ExecuteTime": {
     "end_time": "2019-09-23T19:18:50.843209Z",
     "start_time": "2019-09-23T19:18:50.839814Z"
    }
   },
   "outputs": [],
   "source": []
  },
  {
   "cell_type": "code",
   "execution_count": 119,
   "metadata": {
    "ExecuteTime": {
     "end_time": "2019-09-23T19:18:51.046273Z",
     "start_time": "2019-09-23T19:18:51.032481Z"
    }
   },
   "outputs": [],
   "source": []
  },
  {
   "cell_type": "code",
   "execution_count": 120,
   "metadata": {
    "ExecuteTime": {
     "end_time": "2019-09-23T19:18:51.208839Z",
     "start_time": "2019-09-23T19:18:51.195916Z"
    }
   },
   "outputs": [],
   "source": []
  },
  {
   "cell_type": "code",
   "execution_count": null,
   "metadata": {
    "ExecuteTime": {
     "end_time": "2019-09-23T19:03:56.242836Z",
     "start_time": "2019-09-23T19:03:56.236885Z"
    }
   },
   "outputs": [],
   "source": []
  },
  {
   "cell_type": "code",
   "execution_count": null,
   "metadata": {
    "ExecuteTime": {
     "end_time": "2019-09-23T19:09:48.932574Z",
     "start_time": "2019-09-23T19:09:48.925453Z"
    }
   },
   "outputs": [],
   "source": []
  },
  {
   "cell_type": "code",
   "execution_count": null,
   "metadata": {
    "ExecuteTime": {
     "end_time": "2019-09-23T18:22:33.010766Z",
     "start_time": "2019-09-23T18:22:33.006620Z"
    }
   },
   "outputs": [],
   "source": []
  }
 ],
 "metadata": {
  "hide_input": false,
  "kernelspec": {
   "display_name": "Python 3",
   "language": "python",
   "name": "python3"
  },
  "language_info": {
   "codemirror_mode": {
    "name": "ipython",
    "version": 3
   },
   "file_extension": ".py",
   "mimetype": "text/x-python",
   "name": "python",
   "nbconvert_exporter": "python",
   "pygments_lexer": "ipython3",
   "version": "3.7.2"
  },
  "latex_envs": {
   "LaTeX_envs_menu_present": true,
   "autoclose": true,
   "autocomplete": true,
   "bibliofile": "biblio.bib",
   "cite_by": "apalike",
   "current_citInitial": 1,
   "eqLabelWithNumbers": true,
   "eqNumInitial": 1,
   "hotkeys": {
    "equation": "Ctrl-E",
    "itemize": "Ctrl-I"
   },
   "labels_anchors": false,
   "latex_user_defs": false,
   "report_style_numbering": false,
   "user_envs_cfg": false
  },
  "toc": {
   "base_numbering": 1,
   "nav_menu": {},
   "number_sections": false,
   "sideBar": true,
   "skip_h1_title": false,
   "title_cell": "Table of Contents",
   "title_sidebar": "Contents",
   "toc_cell": false,
   "toc_position": {},
   "toc_section_display": true,
   "toc_window_display": false
  },
  "varInspector": {
   "cols": {
    "lenName": 16,
    "lenType": 16,
    "lenVar": 40
   },
   "kernels_config": {
    "python": {
     "delete_cmd_postfix": "",
     "delete_cmd_prefix": "del ",
     "library": "var_list.py",
     "varRefreshCmd": "print(var_dic_list())"
    },
    "r": {
     "delete_cmd_postfix": ") ",
     "delete_cmd_prefix": "rm(",
     "library": "var_list.r",
     "varRefreshCmd": "cat(var_dic_list()) "
    }
   },
   "types_to_exclude": [
    "module",
    "function",
    "builtin_function_or_method",
    "instance",
    "_Feature"
   ],
   "window_display": false
  }
 },
 "nbformat": 4,
 "nbformat_minor": 2
}
